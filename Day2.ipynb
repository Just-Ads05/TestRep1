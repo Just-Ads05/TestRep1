{
 "cells": [
  {
   "cell_type": "markdown",
   "id": "392732dd",
   "metadata": {},
   "source": [
    "# DAY 2 :- OOPS"
   ]
  },
  {
   "cell_type": "code",
   "execution_count": 1,
   "id": "69b93aa2",
   "metadata": {},
   "outputs": [],
   "source": [
    "# A Class is described as a blueprint for a class, an object is obtained from a class, from one defined class we can make multiple objects \n",
    "#-of the same category, cud be of different types."
   ]
  },
  {
   "cell_type": "markdown",
   "id": "4bc79f6a",
   "metadata": {},
   "source": [
    "# 1) Example of Objects"
   ]
  },
  {
   "cell_type": "code",
   "execution_count": 15,
   "id": "7f7cb277",
   "metadata": {},
   "outputs": [
    {
     "name": "stdout",
     "output_type": "stream",
     "text": [
      "init\n",
      "init\n",
      "Ads2\n",
      "Ads2\n"
     ]
    }
   ],
   "source": [
    "class Sample:\n",
    "    def __init__(self):\n",
    "        self.name=\"Ads3\"\n",
    "        print(\"init\")\n",
    "    \n",
    "    def display(self):\n",
    "        print(\"Ads2\")\n",
    "        \n",
    "obj1=Sample()\n",
    "obj2=Sample()\n",
    "\n",
    "a = id(obj1.name)\n",
    "b = id(obj2.name)\n",
    "#print(obj1.name)\n",
    "\n",
    "#obj1.display()\n",
    "\n",
    "\n",
    "'''Sample.display(obj1) # these are equvialent methods\n",
    "obj1.display() '''"
   ]
  },
  {
   "cell_type": "code",
   "execution_count": 35,
   "id": "733bf37b",
   "metadata": {},
   "outputs": [
    {
     "name": "stdout",
     "output_type": "stream",
     "text": [
      "hi my name is Ads and age is 19\n",
      "hi my name is Vasu and age is 20\n"
     ]
    }
   ],
   "source": [
    "class Student :\n",
    "    def __init__(self,name,age):\n",
    "        self.name = name\n",
    "        self.age = age\n",
    "    def display(self):\n",
    "        print(f\"hi my name is {self.name} and age is {self.age}\")\n",
    "s1 = Student(\"Ads\",19)\n",
    "s2=Student(\"Vasu\",20)\n",
    "s1.display()\n",
    "s2.display()"
   ]
  },
  {
   "cell_type": "code",
   "execution_count": 39,
   "id": "15256c2c",
   "metadata": {},
   "outputs": [
    {
     "name": "stdout",
     "output_type": "stream",
     "text": [
      "\t\tDETAILS\n",
      "\t\tNAME\t\tAGE\tSALARY\n",
      "\t\tAds\t\t19\t100000\n",
      "\t\tDETAILS\n",
      "\t\tNAME\t\tAGE\tSALARY\n",
      "\t\tGlen\t\t18\t90000\n"
     ]
    }
   ],
   "source": [
    "# IDEA - You can note done multiple tables having multple info of the same type as diff objects !\n",
    "class Employee:\n",
    "    def __init__(self,name,age,salary):\n",
    "        self.name=name\n",
    "        self.age=age\n",
    "        self.salary=salary\n",
    "        \n",
    "    def disp(self):\n",
    "        print(\"\\t\\tDETAILS\")\n",
    "        print(\"\\t\\tNAME\\t\\tAGE\\tSALARY\")\n",
    "        print(f\"\\t\\t{self.name}\\t\\t{self.age}\\t{self.salary}\")\n",
    "\n",
    "s1 = Employee(\"Ads\",19,100000)\n",
    "s2 = Employee(\"Glen\",18,90000)\n",
    "s1.disp()\n",
    "s2.disp()"
   ]
  },
  {
   "cell_type": "code",
   "execution_count": 64,
   "id": "be4f138d",
   "metadata": {},
   "outputs": [
    {
     "name": "stdout",
     "output_type": "stream",
     "text": [
      "Tom is Barking\n",
      "Vasu says Hello!\n"
     ]
    }
   ],
   "source": [
    "class Animal:\n",
    "    def __init__(self,name):\n",
    "        self.name = name\n",
    "       #print(\"test1\")\n",
    "    def speak(self):\n",
    "        pass\n",
    "class Sample:\n",
    "    def hello(self):\n",
    "        print(\"testing2\")\n",
    "class Dog(Animal,Sample):\n",
    "    def speak(self):\n",
    "        print(f\"{self.name} is Barking\")\n",
    "class Human(Animal):\n",
    "    def speak(self):\n",
    "        print(f\"{self.name} says Hello!\")\n",
    "\n",
    "\n",
    "a1 = Dog(\"Tom\")\n",
    "a1.speak()\n",
    "a2 = Human(\"Vasu\")\n",
    "a2.speak()\n"
   ]
  },
  {
   "cell_type": "code",
   "execution_count": 74,
   "id": "772fec6f",
   "metadata": {},
   "outputs": [
    {
     "name": "stdout",
     "output_type": "stream",
     "text": [
      "test1\n",
      "init\n",
      "test1\n",
      "Hello mammal\n"
     ]
    }
   ],
   "source": [
    "class Animal:\n",
    "    def __init__(self,name):\n",
    "        self.name = name\n",
    "        print(\"test1\")\n",
    "    def hello(self):\n",
    "        print(\"init\")\n",
    "class Mammal(Animal):\n",
    "#      def __init__(self,name,has_fur):\n",
    "#         print(\"Mammal\")\n",
    "    def hello(self):\n",
    "        print(\"Hello mammal\")\n",
    "        \n",
    "a = Animal(\"Dog\")\n",
    "a.hello()\n",
    "m = Mammal(\"Cat\")\n",
    "m.hello()\n"
   ]
  },
  {
   "cell_type": "code",
   "execution_count": 84,
   "id": "00cc18b6",
   "metadata": {},
   "outputs": [
    {
     "name": "stdout",
     "output_type": "stream",
     "text": [
      "Ads 19 101\n",
      "Timmy 20\n"
     ]
    }
   ],
   "source": [
    "class Person:\n",
    "    def __init__(self,name,age,ids):\n",
    "        self.name =name\n",
    "        self.age = age\n",
    "        self.ids = ids\n",
    "    def display_data(self):\n",
    "        print(self.name,self.age,self.ids);\n",
    "class Employee(Person):\n",
    "    def display_data(self):\n",
    "        print(self.name,self.age)\n",
    "    def disp(self):\n",
    "        super().display_data\n",
    "    \n",
    "    \n",
    "\n",
    "p = Person(\"Ads\",19,101)\n",
    "p.display_data()\n",
    "m =Employee(\"Timmy\",20,102)\n",
    "m.display_data()\n"
   ]
  },
  {
   "cell_type": "code",
   "execution_count": 93,
   "id": "1db39468",
   "metadata": {},
   "outputs": [
    {
     "data": {
      "text/plain": [
       "'ABC'"
      ]
     },
     "execution_count": 93,
     "metadata": {},
     "output_type": "execute_result"
    }
   ],
   "source": [
    "class Animal:\n",
    "    def __init__(self,name):\n",
    "        self.name=name\n",
    "    def info(self):\n",
    "        print(self.name)\n",
    "class Mammal(Animal):\n",
    "    def __init__(self,name,has_fur):\n",
    "        self.has_fur= has_fur\n",
    "    def has_fur_or_not(self):\n",
    "        if self.has_fur:\n",
    "            print(f\"{self.name} has fur\")\n",
    "        else:\n",
    "            print(f\"{self.name} dont have fur\")\n",
    "class Dog(Mammal):\n",
    "    def __init__(self,name,has_fur,breed):\n",
    "        super().__init__(name,has_fur)\n",
    "        self.breed = breed\n",
    "        \n",
    "dog1 = Dog(\"Tikku\",True,\"ABC\")\n",
    "dog1.breed"
   ]
  },
  {
   "cell_type": "markdown",
   "id": "46850a05",
   "metadata": {},
   "source": [
    "# 2) OOPS question 1 from classroom "
   ]
  },
  {
   "cell_type": "code",
   "execution_count": 111,
   "id": "905e526c",
   "metadata": {},
   "outputs": [
    {
     "name": "stdout",
     "output_type": "stream",
     "text": [
      "Transaction Complete\n",
      "Amount Deposited :- 1000\n",
      "Balance : 2000\n",
      "\n",
      "\n",
      "Transaction Complete\n",
      "Amount Withdrawn :- 100\n",
      "Balance : 1900\n",
      "\n",
      "\n",
      "Bankfees : 95.0\n",
      "\n",
      "\n",
      "\tACCOUNT DETAILS:-\n",
      "\tAc/No.\tNAME\t\tBALANCE\n",
      "\t101\tAds\t\t1900\n",
      "\n",
      "\n"
     ]
    }
   ],
   "source": [
    "class BankAccount:\n",
    "    def __init__(self,an,name,balance):\n",
    "        self.an = an\n",
    "        self.name = name\n",
    "        self.balance = balance\n",
    "    def Deposit(self,amount):\n",
    "        self.balance+=amount\n",
    "        print(\"Transaction Complete\")\n",
    "        print(f\"Amount Deposited :- {amount}\")\n",
    "        print(f\"Balance : {self.balance}\")\n",
    "        print(\"\\n\")\n",
    "    def Withdrawal(self,amount):\n",
    "        if self.balance==0:\n",
    "            print(\"Account is empty!\")\n",
    "        elif amount>self.balance:\n",
    "            print(\"Insufficent funds!\")\n",
    "        elif amount<self.balance:\n",
    "            self.balance-=amount\n",
    "            print(\"Transaction Complete\")\n",
    "            print(f\"Amount Withdrawn :- {amount}\")\n",
    "            print(f\"Balance : {self.balance}\")\n",
    "        else:\n",
    "            print(\"Invalid operation\")\n",
    "        print(\"\\n\")\n",
    "    def Bankfees(self):\n",
    "        if self.balance == 0 :\n",
    "            print(\"Insufficent Funds!\")\n",
    "        else:\n",
    "            print(f\"Bankfees : {(self.balance/100)*5}\")\n",
    "        print(\"\\n\")\n",
    "    def Display(self):\n",
    "        print(\"\\tACCOUNT DETAILS:-\")\n",
    "        print(\"\\tAc/No.\\tNAME\\t\\tBALANCE\")\n",
    "        print(f\"\\t{self.an}\\t{self.name}\\t\\t{self.balance}\")\n",
    "        print(\"\\n\")\n",
    "\n",
    "cus1 = BankAccount(101,\"Ads\",1000)\n",
    "cus1.Deposit(1000)\n",
    "cus1.Withdrawal(100)\n",
    "cus1.Bankfees()\n",
    "cus1.Display()"
   ]
  },
  {
   "cell_type": "code",
   "execution_count": null,
   "id": "5f70fbb1",
   "metadata": {},
   "outputs": [],
   "source": []
  }
 ],
 "metadata": {
  "kernelspec": {
   "display_name": "Python 3 (ipykernel)",
   "language": "python",
   "name": "python3"
  },
  "language_info": {
   "codemirror_mode": {
    "name": "ipython",
    "version": 3
   },
   "file_extension": ".py",
   "mimetype": "text/x-python",
   "name": "python",
   "nbconvert_exporter": "python",
   "pygments_lexer": "ipython3",
   "version": "3.9.13"
  }
 },
 "nbformat": 4,
 "nbformat_minor": 5
}
